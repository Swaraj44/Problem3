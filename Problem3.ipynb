{
  "nbformat": 4,
  "nbformat_minor": 0,
  "metadata": {
    "colab": {
      "provenance": [],
      "gpuType": "T4"
    },
    "kernelspec": {
      "name": "python3",
      "display_name": "Python 3"
    },
    "language_info": {
      "name": "python"
    },
    "accelerator": "GPU"
  },
  "cells": [
    {
      "cell_type": "code",
      "source": [
        "# Filename: train_mnist_cnn.py (or in a Colab notebook)\n",
        "\n",
        "import torch\n",
        "import torch.nn as nn\n",
        "import torch.optim as optim\n",
        "from torchvision import datasets, transforms\n",
        "from torch.utils.data import DataLoader\n",
        "import os\n",
        "\n",
        "# ===========================\n",
        "# 1. Configuration\n",
        "# ===========================\n",
        "BATCH_SIZE = 64\n",
        "EPOCHS = 5\n",
        "LR = 0.001\n",
        "MODEL_PATH = \"mnist_cnn.pth\"\n",
        "DEVICE = torch.device(\"cuda\" if torch.cuda.is_available() else \"cpu\")\n",
        "\n",
        "# ===========================\n",
        "# 2. Dataset\n",
        "# ===========================\n",
        "transform = transforms.Compose([\n",
        "    transforms.ToTensor(),\n",
        "    transforms.Normalize((0.5,), (0.5,))\n",
        "])\n"
      ],
      "metadata": {
        "id": "LpnrnMuYaUM9"
      },
      "execution_count": 1,
      "outputs": []
    },
    {
      "cell_type": "code",
      "source": [
        "\n",
        "train_dataset = datasets.MNIST(root=\"./data\", train=True, download=True, transform=transform)\n",
        "train_loader = DataLoader(train_dataset, batch_size=BATCH_SIZE, shuffle=True)\n"
      ],
      "metadata": {
        "colab": {
          "base_uri": "https://localhost:8080/"
        },
        "id": "Ug8rRWLuaY1-",
        "outputId": "d5651a0c-3793-4b50-9e7c-ec4dca5b14e3"
      },
      "execution_count": 2,
      "outputs": [
        {
          "output_type": "stream",
          "name": "stderr",
          "text": [
            "100%|██████████| 9.91M/9.91M [00:00<00:00, 18.1MB/s]\n",
            "100%|██████████| 28.9k/28.9k [00:00<00:00, 481kB/s]\n",
            "100%|██████████| 1.65M/1.65M [00:00<00:00, 4.56MB/s]\n",
            "100%|██████████| 4.54k/4.54k [00:00<00:00, 7.78MB/s]\n"
          ]
        }
      ]
    },
    {
      "cell_type": "code",
      "execution_count": 3,
      "metadata": {
        "id": "2LAkgWxYaH0d"
      },
      "outputs": [],
      "source": [
        "\n",
        "# ===========================\n",
        "# 3. Model Definition\n",
        "# ===========================\n",
        "class SimpleCNN(nn.Module):\n",
        "    def __init__(self):\n",
        "        super(SimpleCNN, self).__init__()\n",
        "        self.model = nn.Sequential(\n",
        "            nn.Conv2d(1, 32, 3, 1, 1),  # [B, 1, 28, 28] → [B, 32, 28, 28]\n",
        "            nn.ReLU(),\n",
        "            nn.MaxPool2d(2),           # [B, 32, 14, 14]\n",
        "            nn.Conv2d(32, 64, 3, 1, 1), # [B, 64, 14, 14]\n",
        "            nn.ReLU(),\n",
        "            nn.MaxPool2d(2),           # [B, 64, 7, 7]\n",
        "            nn.Flatten(),              # [B, 64*7*7]\n",
        "            nn.Linear(64*7*7, 128),\n",
        "            nn.ReLU(),\n",
        "            nn.Linear(128, 10)         # Output layer for 10 digits\n",
        "        )\n",
        "\n",
        "    def forward(self, x):\n",
        "        return self.model(x)\n",
        "\n",
        "model = SimpleCNN().to(DEVICE)\n",
        "\n"
      ]
    },
    {
      "cell_type": "code",
      "source": [
        "# ===========================\n",
        "# 4. Loss and Optimizer\n",
        "# ===========================\n",
        "criterion = nn.CrossEntropyLoss()\n",
        "optimizer = optim.Adam(model.parameters(), lr=LR)\n",
        "\n",
        "# ===========================\n",
        "# 5. Training Loop\n",
        "# ===========================\n",
        "print(\"Training Started...\")\n",
        "for epoch in range(EPOCHS):\n",
        "    model.train()\n",
        "    running_loss = 0.0\n",
        "    for images, labels in train_loader:\n",
        "        images, labels = images.to(DEVICE), labels.to(DEVICE)\n",
        "\n",
        "        optimizer.zero_grad()\n",
        "        outputs = model(images)\n",
        "        loss = criterion(outputs, labels)\n",
        "        loss.backward()\n",
        "        optimizer.step()\n",
        "\n",
        "        running_loss += loss.item()\n",
        "\n",
        "    print(f\"Epoch [{epoch+1}/{EPOCHS}], Loss: {running_loss/len(train_loader):.4f}\")\n",
        "\n",
        "# ===========================\n",
        "# 6. Save the Model\n",
        "# ===========================\n",
        "os.makedirs(\"models\", exist_ok=True)\n",
        "torch.save(model.state_dict(), f\"models/{MODEL_PATH}\")\n",
        "print(f\"Model saved to models/{MODEL_PATH}\")\n"
      ],
      "metadata": {
        "colab": {
          "base_uri": "https://localhost:8080/"
        },
        "id": "8pZOaYvgahve",
        "outputId": "3edcd4a7-4c42-4b1a-c5ff-58cd9c2364a6"
      },
      "execution_count": 4,
      "outputs": [
        {
          "output_type": "stream",
          "name": "stdout",
          "text": [
            "Training Started...\n",
            "Epoch [1/5], Loss: 0.1537\n",
            "Epoch [2/5], Loss: 0.0461\n",
            "Epoch [3/5], Loss: 0.0317\n",
            "Epoch [4/5], Loss: 0.0225\n",
            "Epoch [5/5], Loss: 0.0158\n",
            "Model saved to models/mnist_cnn.pth\n"
          ]
        }
      ]
    }
  ]
}